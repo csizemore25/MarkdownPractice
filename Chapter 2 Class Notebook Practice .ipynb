{
 "cells": [
  {
   "cell_type": "code",
   "execution_count": 1,
   "id": "0eed457f",
   "metadata": {},
   "outputs": [
    {
     "name": "stdout",
     "output_type": "stream",
     "text": [
      "6\n"
     ]
    }
   ],
   "source": [
    "a=3\n",
    "b=a*2\n",
    "print(b)"
   ]
  },
  {
   "cell_type": "code",
   "execution_count": 2,
   "id": "adb10b8f",
   "metadata": {},
   "outputs": [
    {
     "name": "stdout",
     "output_type": "stream",
     "text": [
      "11\n"
     ]
    }
   ],
   "source": [
    "c=5\n",
    "d=6\n",
    "print(c+d)"
   ]
  },
  {
   "cell_type": "code",
   "execution_count": 3,
   "id": "d6929169",
   "metadata": {},
   "outputs": [
    {
     "name": "stdout",
     "output_type": "stream",
     "text": [
      "Hello class welcome to CS150\n"
     ]
    }
   ],
   "source": [
    "print(\"Hello class welcome to CS150\")"
   ]
  },
  {
   "cell_type": "markdown",
   "id": "25d7da13",
   "metadata": {},
   "source": [
    "# Heading1"
   ]
  },
  {
   "cell_type": "markdown",
   "id": "1369eec3",
   "metadata": {},
   "source": [
    "## Heading2"
   ]
  },
  {
   "cell_type": "markdown",
   "id": "9740d88f",
   "metadata": {},
   "source": [
    "### Heading3\n",
    "#### Heading4"
   ]
  },
  {
   "cell_type": "markdown",
   "id": "c85cbd1f",
   "metadata": {},
   "source": [
    "##### Heading5"
   ]
  },
  {
   "cell_type": "markdown",
   "id": "e3542aef",
   "metadata": {},
   "source": [
    "###### Heading6"
   ]
  },
  {
   "cell_type": "markdown",
   "id": "e2fdb087",
   "metadata": {},
   "source": [
    "> This is a good day"
   ]
  },
  {
   "cell_type": "markdown",
   "id": "05139869",
   "metadata": {},
   "source": [
    "* List 1\n",
    "* List 2"
   ]
  },
  {
   "cell_type": "markdown",
   "id": "37fa6450",
   "metadata": {},
   "source": [
    "1. Ordered List 1\n",
    "2. Ordered List 2"
   ]
  },
  {
   "cell_type": "markdown",
   "id": "ad5fe8b1",
   "metadata": {},
   "source": [
    "** These are bold words **"
   ]
  },
  {
   "cell_type": "markdown",
   "id": "4cc63333",
   "metadata": {},
   "source": [
    "**These are bold words**"
   ]
  },
  {
   "cell_type": "markdown",
   "id": "7542e0db",
   "metadata": {},
   "source": [
    "*These are italicized words*"
   ]
  },
  {
   "cell_type": "markdown",
   "id": "8efc983d",
   "metadata": {},
   "source": [
    "`Here is a code for printing statements!`"
   ]
  },
  {
   "cell_type": "markdown",
   "id": "847b3ba9",
   "metadata": {},
   "source": [
    "<a href=\"https://google.com\">"
   ]
  },
  {
   "cell_type": "markdown",
   "id": "7bf229d2",
   "metadata": {},
   "source": [
    "<a href=\"https://www.google.com/\">Google</a>"
   ]
  },
  {
   "cell_type": "markdown",
   "id": "801994e8",
   "metadata": {},
   "source": [
    "![Python Logo](https://images.unsplash.com/photo-1611267254323-4db7b39c732c?ixlib=rb-1.2.1&ixid=MnwxMjA3fDB8MHxzZWFyY2h8Mnx8Y3V0ZSUyMGNhdHxlbnwwfHwwfHw%3D&w=1000&q=80)"
   ]
  },
  {
   "cell_type": "code",
   "execution_count": null,
   "id": "5338ef5d",
   "metadata": {},
   "outputs": [],
   "source": []
  }
 ],
 "metadata": {
  "kernelspec": {
   "display_name": "Python 3 (ipykernel)",
   "language": "python",
   "name": "python3"
  },
  "language_info": {
   "codemirror_mode": {
    "name": "ipython",
    "version": 3
   },
   "file_extension": ".py",
   "mimetype": "text/x-python",
   "name": "python",
   "nbconvert_exporter": "python",
   "pygments_lexer": "ipython3",
   "version": "3.9.12"
  }
 },
 "nbformat": 4,
 "nbformat_minor": 5
}
